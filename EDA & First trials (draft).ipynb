{
 "cells": [
  {
   "cell_type": "code",
   "execution_count": 36,
   "id": "6b81030a",
   "metadata": {},
   "outputs": [],
   "source": [
    "import pandas as pd\n",
    "import numpy as np\n",
    "\n",
    "from sklearn.feature_extraction.text import CountVectorizer\n",
    "from sklearn import feature_extraction\n",
    "\n",
    "from sklearn.naive_bayes import MultinomialNB\n",
    "from sklearn.naive_bayes import MultinomialNB\n",
    "from sklearn.linear_model import LogisticRegression\n",
    "from sklearn.tree import DecisionTreeClassifier\n",
    "from sklearn.ensemble import RandomForestClassifier\n",
    "\n",
    "from sklearn import pipeline\n",
    "from sklearn.model_selection import train_test_split\n",
    "from sklearn import metrics\n",
    "\n",
    "import itertools\n",
    "\n",
    "import string\n",
    "import re\n",
    "\n",
    "import matplotlib.pyplot as plt\n",
    "import seaborn as sns\n",
    "sns.set()"
   ]
  },
  {
   "cell_type": "markdown",
   "id": "c7a643c9",
   "metadata": {},
   "source": [
    "### Data collection (Kaz Rus wikipedia dataset)"
   ]
  },
  {
   "cell_type": "code",
   "execution_count": 37,
   "id": "e2a0a593",
   "metadata": {
    "scrolled": true
   },
   "outputs": [],
   "source": [
    "kazakhData = pd.read_csv('kazdata.txt', sep='\\t', header=None, names=['Kazakh'])\n",
    "russianData = pd.read_csv('rusdata.txt', sep='\\t', header=None, names=['Russian'])"
   ]
  },
  {
   "cell_type": "code",
   "execution_count": 38,
   "id": "0bde7cd4",
   "metadata": {},
   "outputs": [
    {
     "data": {
      "text/html": [
       "<div>\n",
       "<style scoped>\n",
       "    .dataframe tbody tr th:only-of-type {\n",
       "        vertical-align: middle;\n",
       "    }\n",
       "\n",
       "    .dataframe tbody tr th {\n",
       "        vertical-align: top;\n",
       "    }\n",
       "\n",
       "    .dataframe thead th {\n",
       "        text-align: right;\n",
       "    }\n",
       "</style>\n",
       "<table border=\"1\" class=\"dataframe\">\n",
       "  <thead>\n",
       "    <tr style=\"text-align: right;\">\n",
       "      <th></th>\n",
       "      <th>Kazakh</th>\n",
       "    </tr>\n",
       "  </thead>\n",
       "  <tbody>\n",
       "    <tr>\n",
       "      <th>1</th>\n",
       "      <td>«10.01.10-журналистика» мамандығы бойынша мерз...</td>\n",
       "    </tr>\n",
       "    <tr>\n",
       "      <th>2</th>\n",
       "      <td>№ 1001 әскери бөлім және Ызғант ауылындағы мәд...</td>\n",
       "    </tr>\n",
       "    <tr>\n",
       "      <th>3</th>\n",
       "      <td>«10.02.20 – Салыстырмалы-тарихи, типологиялық ...</td>\n",
       "    </tr>\n",
       "    <tr>\n",
       "      <th>4</th>\n",
       "      <td>№1004 авторлық куәлікке ие (2003).</td>\n",
       "    </tr>\n",
       "    <tr>\n",
       "      <th>5</th>\n",
       "      <td>• 105 жыл бұрын (1906-1972) драматург, киносце...</td>\n",
       "    </tr>\n",
       "  </tbody>\n",
       "</table>\n",
       "</div>"
      ],
      "text/plain": [
       "                                              Kazakh\n",
       "1  «10.01.10-журналистика» мамандығы бойынша мерз...\n",
       "2  № 1001 әскери бөлім және Ызғант ауылындағы мәд...\n",
       "3  «10.02.20 – Салыстырмалы-тарихи, типологиялық ...\n",
       "4                 №1004 авторлық куәлікке ие (2003).\n",
       "5  • 105 жыл бұрын (1906-1972) драматург, киносце..."
      ]
     },
     "execution_count": 38,
     "metadata": {},
     "output_type": "execute_result"
    }
   ],
   "source": [
    "kazakhData.head()"
   ]
  },
  {
   "cell_type": "code",
   "execution_count": 39,
   "id": "72451b53",
   "metadata": {
    "scrolled": true
   },
   "outputs": [
    {
     "name": "stdout",
     "output_type": "stream",
     "text": [
      "!\"#$%&'()*+,-./:;<=>?@[\\]^_`{|}~"
     ]
    }
   ],
   "source": [
    "# Remove all punctuation and special characters\n",
    "for char in string.punctuation:\n",
    "    print(char, end='')\n",
    "translate_table = dict((ord(char), None) for char in string.punctuation)\n",
    "translate_table[ord('«')] = None\n",
    "translate_table[ord('»')] = None\n",
    "translate_table[ord('–')] = None\n",
    "translate_table[ord('•')] = None\n",
    "translate_table[ord('№')] = None\n",
    "translate_table[ord('—')] = None\n",
    "translate_table[ord('“')] = None\n",
    "translate_table[ord('²')] = None\n",
    "translate_table[ord('í')] = None\n",
    "translate_table[ord('ö')] = None\n",
    "translate_table[ord('ı')] = None\n",
    "translate_table[ord('−')] = None\n",
    "translate_table[ord('…')] = None\n",
    "\n",
    "\n",
    "# Data preprocessing (data parsed from Wikipedia => a lot of noise)\n",
    "kazDataPrep = []\n",
    "kazLang = []\n",
    "for i, line in kazakhData.iterrows():\n",
    "    line = line['Kazakh']\n",
    "    if len(line)!=0:\n",
    "        line = line.lower()\n",
    "        line = re.sub(r'\\d+','',line)\n",
    "        line = re.sub(r'[a-zA-Z]+','',line) #removing all english characters\n",
    "        line = line.translate(translate_table) \n",
    "        line = re.sub(r'^\\\\u$[a-zA-Z]','', line) #removing special characters from wikipedia articles\n",
    "        line = re.sub(r'\\ufeff','', line) #removing special characters from wikipedia articles\n",
    "        line = re.sub(r'\\u200b','', line) #removing special characters from wikipedia articles\n",
    "        line = re.sub(r'[\\u4e00-\\u9fff]+','', line) #removing special characters from wikipedia articles\n",
    "        line = \"\".join(c for c in line if c.isalpha() or c == \" \")\n",
    "        kazDataPrep.append(line)\n",
    "        kazLang.append('Kazakh')"
   ]
  },
  {
   "cell_type": "code",
   "execution_count": 40,
   "id": "41326523",
   "metadata": {},
   "outputs": [
    {
     "data": {
      "text/plain": [
       "{33: None,\n",
       " 34: None,\n",
       " 35: None,\n",
       " 36: None,\n",
       " 37: None,\n",
       " 38: None,\n",
       " 39: None,\n",
       " 40: None,\n",
       " 41: None,\n",
       " 42: None,\n",
       " 43: None,\n",
       " 44: None,\n",
       " 45: None,\n",
       " 46: None,\n",
       " 47: None,\n",
       " 58: None,\n",
       " 59: None,\n",
       " 60: None,\n",
       " 61: None,\n",
       " 62: None,\n",
       " 63: None,\n",
       " 64: None,\n",
       " 91: None,\n",
       " 92: None,\n",
       " 93: None,\n",
       " 94: None,\n",
       " 95: None,\n",
       " 96: None,\n",
       " 123: None,\n",
       " 124: None,\n",
       " 125: None,\n",
       " 126: None,\n",
       " 171: None,\n",
       " 187: None,\n",
       " 8211: None,\n",
       " 8226: None,\n",
       " 8470: None,\n",
       " 8212: None,\n",
       " 8220: None,\n",
       " 178: None,\n",
       " 237: None,\n",
       " 246: None,\n",
       " 305: None,\n",
       " 8722: None,\n",
       " 8230: None}"
      ]
     },
     "execution_count": 40,
     "metadata": {},
     "output_type": "execute_result"
    }
   ],
   "source": [
    "translate_table"
   ]
  },
  {
   "cell_type": "code",
   "execution_count": 41,
   "id": "d6156972",
   "metadata": {},
   "outputs": [],
   "source": [
    "rusDataPrep = []\n",
    "rusLang = []\n",
    "for i, line in russianData.iterrows():\n",
    "    line = line['Russian']\n",
    "    if len(line)!=0:\n",
    "        line = line.lower()\n",
    "        line = re.sub(r'\\d+','',line)\n",
    "        line = re.sub(r'[a-zA-Z]+','',line) #removing all english characters\n",
    "        line = line.translate(translate_table) \n",
    "        line = re.sub(r'^\\\\u$[a-zA-Z]','', line) #removing special characters from wikipedia articles\n",
    "        line = re.sub(r'\\ufeff','', line) #removing special characters from wikipedia articles\n",
    "        line = re.sub(r'\\u200b','', line) #removing special characters from wikipedia articles\n",
    "        line = re.sub(r'[\\u4e00-\\u9fff]+','', line) #removing special characters from wikipedia articles\n",
    "        line = re.sub('\\n\\t', '', line)\n",
    "        line = \"\".join(c for c in line if c.isalpha() or c == \" \")\n",
    "        \n",
    "        rusDataPrep.append(line)\n",
    "        rusLang.append('Russian')\n",
    "        \n",
    "#data is still need some cleaning"
   ]
  },
  {
   "cell_type": "code",
   "execution_count": 42,
   "id": "cf8da278",
   "metadata": {},
   "outputs": [
    {
     "name": "stderr",
     "output_type": "stream",
     "text": [
      "C:\\Users\\Temirlan\\AppData\\Local\\Temp\\ipykernel_7620\\2936372924.py:1: ParserWarning: Falling back to the 'python' engine because the 'c' engine does not support regex separators (separators > 1 char and different from '\\s+' are interpreted as regex); you can avoid this warning by specifying engine='python'.\n",
      "  kazData2 = pd.read_csv('result.txt', sep='utf-8', names=['text']) #ISSAI Kazakh Corpus dataset, no need to clean\n"
     ]
    }
   ],
   "source": [
    "kazData2 = pd.read_csv('result.txt', sep='utf-8', names=['text']) #ISSAI Kazakh Corpus dataset, no need to clean\n",
    "kazData2Lang = []\n",
    "for i in range(kazData2.shape[0]):\n",
    "    kazData2Lang.append('Kazakh')"
   ]
  },
  {
   "cell_type": "code",
   "execution_count": 43,
   "id": "080b3593",
   "metadata": {
    "scrolled": true
   },
   "outputs": [
    {
     "name": "stderr",
     "output_type": "stream",
     "text": [
      "C:\\Users\\Temirlan\\AppData\\Local\\Temp\\ipykernel_7620\\1310996652.py:1: ParserWarning: Falling back to the 'python' engine because the 'c' engine does not support regex separators (separators > 1 char and different from '\\s+' are interpreted as regex); you can avoid this warning by specifying engine='python'.\n",
      "  ruData2 = pd.read_csv('jokesData.csv',sep='utf-8',names=['text'])\n"
     ]
    }
   ],
   "source": [
    "ruData2 = pd.read_csv('jokesData.csv',sep='utf-8',names=['text'])\n",
    "ruData2\n",
    "ruDataPrep2 = []\n",
    "ruLang2 = []\n",
    "for i, line in ruData2.iterrows():\n",
    "    line = line['text']\n",
    "    if len(line)!=0:\n",
    "        line = line.lower()\n",
    "        line = re.sub(r'\\d+','',line)\n",
    "        line = re.sub(r'[a-zA-Z]+','',line) #removing all english characters\n",
    "        line = line.translate(translate_table) \n",
    "        line = re.sub(r'^\\\\u$[a-zA-Z]','', line) #removing special characters from wikipedia articles\n",
    "        line = re.sub(r'\\ufeff','', line) #removing special characters from wikipedia articles\n",
    "        line = re.sub(r'\\u200b','', line) #removing special characters from wikipedia articles\n",
    "        line = re.sub(r'[\\u4e00-\\u9fff]+','', line) #removing special characters from wikipedia articles\n",
    "        line = \"\".join(c for c in line if c.isalpha() or c == \" \")\n",
    "        ruDataPrep2.append(line)\n",
    "        ruLang2.append('Russian')"
   ]
  },
  {
   "cell_type": "code",
   "execution_count": 44,
   "id": "7b4e1981",
   "metadata": {},
   "outputs": [],
   "source": [
    "# ruDataPrep2: ruLang2, kazData2: kazData2Lang, rusDataPrep: rusLang, kazDataPrep: kazLang"
   ]
  },
  {
   "cell_type": "code",
   "execution_count": 45,
   "id": "bba6f039",
   "metadata": {},
   "outputs": [],
   "source": [
    "data = pd.DataFrame({\n",
    "    'Text': rusDataPrep + ruDataPrep2 + kazDataPrep + list(kazData2['text']),\n",
    "    'Language': rusLang + ruLang2 + kazLang + kazData2Lang\n",
    "})"
   ]
  },
  {
   "cell_type": "code",
   "execution_count": 46,
   "id": "4fca1519",
   "metadata": {},
   "outputs": [
    {
     "data": {
      "text/plain": [
       "(443970, 533205)"
      ]
     },
     "execution_count": 46,
     "metadata": {},
     "output_type": "execute_result"
    },
    {
     "data": {
      "image/png": "[encoded data removed]",
      "text/plain": [
       "<Figure size 720x360 with 1 Axes>"
      ]
     },
     "metadata": {},
     "output_type": "display_data"
    }
   ],
   "source": [
    "#dataset is somewhat balanced\n",
    "plt.figure(figsize=(10,5))\n",
    "sns.countplot(x = data['Language'], data=data)\n",
    "data[data['Language']=='Kazakh'].shape[0], data[data['Language']=='Russian'].shape[0]"
   ]
  },
  {
   "cell_type": "code",
   "execution_count": 47,
   "id": "e7c85eff",
   "metadata": {},
   "outputs": [
    {
     "data": {
      "text/html": [
       "<div>\n",
       "<style scoped>\n",
       "    .dataframe tbody tr th:only-of-type {\n",
       "        vertical-align: middle;\n",
       "    }\n",
       "\n",
       "    .dataframe tbody tr th {\n",
       "        vertical-align: top;\n",
       "    }\n",
       "\n",
       "    .dataframe thead th {\n",
       "        text-align: right;\n",
       "    }\n",
       "</style>\n",
       "<table border=\"1\" class=\"dataframe\">\n",
       "  <thead>\n",
       "    <tr style=\"text-align: right;\">\n",
       "      <th></th>\n",
       "      <th>Text</th>\n",
       "      <th>Language</th>\n",
       "    </tr>\n",
       "  </thead>\n",
       "  <tbody>\n",
       "    <tr>\n",
       "      <th>0</th>\n",
       "      <td>и стал на несколько лет основной домашней ар...</td>\n",
       "      <td>Russian</td>\n",
       "    </tr>\n",
       "    <tr>\n",
       "      <th>1</th>\n",
       "      <td>срок обучения   года форма обучения  очная</td>\n",
       "      <td>Russian</td>\n",
       "    </tr>\n",
       "    <tr>\n",
       "      <th>2</th>\n",
       "      <td>лет российскому футболу подвижный техничный т...</td>\n",
       "      <td>Russian</td>\n",
       "    </tr>\n",
       "    <tr>\n",
       "      <th>3</th>\n",
       "      <td>арарат оступился в раунде следующем где лонд...</td>\n",
       "      <td>Russian</td>\n",
       "    </tr>\n",
       "    <tr>\n",
       "      <th>4</th>\n",
       "      <td>ведущий программ малич фм программы вечер по...</td>\n",
       "      <td>Russian</td>\n",
       "    </tr>\n",
       "  </tbody>\n",
       "</table>\n",
       "</div>"
      ],
      "text/plain": [
       "                                                Text Language\n",
       "0    и стал на несколько лет основной домашней ар...  Russian\n",
       "1         срок обучения   года форма обучения  очная  Russian\n",
       "2   лет российскому футболу подвижный техничный т...  Russian\n",
       "3    арарат оступился в раунде следующем где лонд...  Russian\n",
       "4    ведущий программ малич фм программы вечер по...  Russian"
      ]
     },
     "execution_count": 47,
     "metadata": {},
     "output_type": "execute_result"
    }
   ],
   "source": [
    "data.head()"
   ]
  },
  {
   "cell_type": "code",
   "execution_count": 48,
   "id": "d5c0eb8c",
   "metadata": {},
   "outputs": [
    {
     "data": {
      "text/html": [
       "<div>\n",
       "<style scoped>\n",
       "    .dataframe tbody tr th:only-of-type {\n",
       "        vertical-align: middle;\n",
       "    }\n",
       "\n",
       "    .dataframe tbody tr th {\n",
       "        vertical-align: top;\n",
       "    }\n",
       "\n",
       "    .dataframe thead th {\n",
       "        text-align: right;\n",
       "    }\n",
       "</style>\n",
       "<table border=\"1\" class=\"dataframe\">\n",
       "  <thead>\n",
       "    <tr style=\"text-align: right;\">\n",
       "      <th></th>\n",
       "      <th>Text</th>\n",
       "      <th>Language</th>\n",
       "    </tr>\n",
       "  </thead>\n",
       "  <tbody>\n",
       "    <tr>\n",
       "      <th>977170</th>\n",
       "      <td>мәселен сіңбелік су жер қыртысыныңі жоғарғы қа...</td>\n",
       "      <td>Kazakh</td>\n",
       "    </tr>\n",
       "    <tr>\n",
       "      <th>977171</th>\n",
       "      <td>театрландырылған қойылымдарымыз жәрмеңкелерімі...</td>\n",
       "      <td>Kazakh</td>\n",
       "    </tr>\n",
       "    <tr>\n",
       "      <th>977172</th>\n",
       "      <td>ханның қабылдауларына қатысып отырған деп те а...</td>\n",
       "      <td>Kazakh</td>\n",
       "    </tr>\n",
       "    <tr>\n",
       "      <th>977173</th>\n",
       "      <td>жеке қаламгерлер арқылы болса да өзге ел әдеби...</td>\n",
       "      <td>Kazakh</td>\n",
       "    </tr>\n",
       "    <tr>\n",
       "      <th>977174</th>\n",
       "      <td>ғайып құран мен тәпсірге сәйкес діни тағзым ет...</td>\n",
       "      <td>Kazakh</td>\n",
       "    </tr>\n",
       "  </tbody>\n",
       "</table>\n",
       "</div>"
      ],
      "text/plain": [
       "                                                     Text Language\n",
       "977170  мәселен сіңбелік су жер қыртысыныңі жоғарғы қа...   Kazakh\n",
       "977171  театрландырылған қойылымдарымыз жәрмеңкелерімі...   Kazakh\n",
       "977172  ханның қабылдауларына қатысып отырған деп те а...   Kazakh\n",
       "977173  жеке қаламгерлер арқылы болса да өзге ел әдеби...   Kazakh\n",
       "977174  ғайып құран мен тәпсірге сәйкес діни тағзым ет...   Kazakh"
      ]
     },
     "execution_count": 48,
     "metadata": {},
     "output_type": "execute_result"
    }
   ],
   "source": [
    "data.tail()"
   ]
  },
  {
   "cell_type": "code",
   "execution_count": 49,
   "id": "8b298aac",
   "metadata": {},
   "outputs": [],
   "source": [
    "x = data['Text']\n",
    "y = data['Language']\n",
    "from sklearn.model_selection import train_test_split\n",
    "xTrain, xTest, yTrain, yTest = train_test_split(x, y, test_size=.2, random_state=42, stratify=y)\n"
   ]
  },
  {
   "cell_type": "code",
   "execution_count": 50,
   "id": "976042d7",
   "metadata": {},
   "outputs": [],
   "source": [
    "vectorizer = feature_extraction.text.TfidfVectorizer(ngram_range=(1,3), analyzer='char')\n",
    "xTransformed = vectorizer.fit_transform(x)"
   ]
  },
  {
   "cell_type": "code",
   "execution_count": 51,
   "id": "3377996e",
   "metadata": {},
   "outputs": [],
   "source": [
    "#xTrain, xTest, yTrain, yTest = train_test_split(xTransformed, y, test_size=.2, random_state=42)"
   ]
  },
  {
   "cell_type": "code",
   "execution_count": 52,
   "id": "ff86e5f1",
   "metadata": {},
   "outputs": [
    {
     "data": {
      "text/html": [
       "<style>#sk-container-id-3 {color: black;background-color: white;}#sk-container-id-3 pre{padding: 0;}#sk-container-id-3 div.sk-toggleable {background-color: white;}#sk-container-id-3 label.sk-toggleable__label {cursor: pointer;display: block;width: 100%;margin-bottom: 0;padding: 0.3em;box-sizing: border-box;text-align: center;}#sk-container-id-3 label.sk-toggleable__label-arrow:before {content: \"▸\";float: left;margin-right: 0.25em;color: #696969;}#sk-container-id-3 label.sk-toggleable__label-arrow:hover:before {color: black;}#sk-container-id-3 div.sk-estimator:hover label.sk-toggleable__label-arrow:before {color: black;}#sk-container-id-3 div.sk-toggleable__content {max-height: 0;max-width: 0;overflow: hidden;text-align: left;background-color: #f0f8ff;}#sk-container-id-3 div.sk-toggleable__content pre {margin: 0.2em;color: black;border-radius: 0.25em;background-color: #f0f8ff;}#sk-container-id-3 input.sk-toggleable__control:checked~div.sk-toggleable__content {max-height: 200px;max-width: 100%;overflow: auto;}#sk-container-id-3 input.sk-toggleable__control:checked~label.sk-toggleable__label-arrow:before {content: \"▾\";}#sk-container-id-3 div.sk-estimator input.sk-toggleable__control:checked~label.sk-toggleable__label {background-color: #d4ebff;}#sk-container-id-3 div.sk-label input.sk-toggleable__control:checked~label.sk-toggleable__label {background-color: #d4ebff;}#sk-container-id-3 input.sk-hidden--visually {border: 0;clip: rect(1px 1px 1px 1px);clip: rect(1px, 1px, 1px, 1px);height: 1px;margin: -1px;overflow: hidden;padding: 0;position: absolute;width: 1px;}#sk-container-id-3 div.sk-estimator {font-family: monospace;background-color: #f0f8ff;border: 1px dotted black;border-radius: 0.25em;box-sizing: border-box;margin-bottom: 0.5em;}#sk-container-id-3 div.sk-estimator:hover {background-color: #d4ebff;}#sk-container-id-3 div.sk-parallel-item::after {content: \"\";width: 100%;border-bottom: 1px solid gray;flex-grow: 1;}#sk-container-id-3 div.sk-label:hover label.sk-toggleable__label {background-color: #d4ebff;}#sk-container-id-3 div.sk-serial::before {content: \"\";position: absolute;border-left: 1px solid gray;box-sizing: border-box;top: 0;bottom: 0;left: 50%;z-index: 0;}#sk-container-id-3 div.sk-serial {display: flex;flex-direction: column;align-items: center;background-color: white;padding-right: 0.2em;padding-left: 0.2em;position: relative;}#sk-container-id-3 div.sk-item {position: relative;z-index: 1;}#sk-container-id-3 div.sk-parallel {display: flex;align-items: stretch;justify-content: center;background-color: white;position: relative;}#sk-container-id-3 div.sk-item::before, #sk-container-id-3 div.sk-parallel-item::before {content: \"\";position: absolute;border-left: 1px solid gray;box-sizing: border-box;top: 0;bottom: 0;left: 50%;z-index: -1;}#sk-container-id-3 div.sk-parallel-item {display: flex;flex-direction: column;z-index: 1;position: relative;background-color: white;}#sk-container-id-3 div.sk-parallel-item:first-child::after {align-self: flex-end;width: 50%;}#sk-container-id-3 div.sk-parallel-item:last-child::after {align-self: flex-start;width: 50%;}#sk-container-id-3 div.sk-parallel-item:only-child::after {width: 0;}#sk-container-id-3 div.sk-dashed-wrapped {border: 1px dashed gray;margin: 0 0.4em 0.5em 0.4em;box-sizing: border-box;padding-bottom: 0.4em;background-color: white;}#sk-container-id-3 div.sk-label label {font-family: monospace;font-weight: bold;display: inline-block;line-height: 1.2em;}#sk-container-id-3 div.sk-label-container {text-align: center;}#sk-container-id-3 div.sk-container {/* jupyter's `normalize.less` sets `[hidden] { display: none; }` but bootstrap.min.css set `[hidden] { display: none !important; }` so we also need the `!important` here to be able to override the default hidden behavior on the sphinx rendered scikit-learn.org. See: https://github.com/scikit-learn/scikit-learn/issues/21755 */display: inline-block !important;position: relative;}#sk-container-id-3 div.sk-text-repr-fallback {display: none;}</style><div id=\"sk-container-id-3\" class=\"sk-top-container\"><div class=\"sk-text-repr-fallback\"><pre>Pipeline(steps=[(&#x27;vectorizer&#x27;,\n",
       "                 TfidfVectorizer(analyzer=&#x27;char&#x27;, ngram_range=(1, 3))),\n",
       "                (&#x27;clf&#x27;, MultinomialNB())])</pre><b>In a Jupyter environment, please rerun this cell to show the HTML representation or trust the notebook. <br />On GitHub, the HTML representation is unable to render, please try loading this page with nbviewer.org.</b></div><div class=\"sk-container\" hidden><div class=\"sk-item sk-dashed-wrapped\"><div class=\"sk-label-container\"><div class=\"sk-label sk-toggleable\"><input class=\"sk-toggleable__control sk-hidden--visually\" id=\"sk-estimator-id-7\" type=\"checkbox\" ><label for=\"sk-estimator-id-7\" class=\"sk-toggleable__label sk-toggleable__label-arrow\">Pipeline</label><div class=\"sk-toggleable__content\"><pre>Pipeline(steps=[(&#x27;vectorizer&#x27;,\n",
       "                 TfidfVectorizer(analyzer=&#x27;char&#x27;, ngram_range=(1, 3))),\n",
       "                (&#x27;clf&#x27;, MultinomialNB())])</pre></div></div></div><div class=\"sk-serial\"><div class=\"sk-item\"><div class=\"sk-estimator sk-toggleable\"><input class=\"sk-toggleable__control sk-hidden--visually\" id=\"sk-estimator-id-8\" type=\"checkbox\" ><label for=\"sk-estimator-id-8\" class=\"sk-toggleable__label sk-toggleable__label-arrow\">TfidfVectorizer</label><div class=\"sk-toggleable__content\"><pre>TfidfVectorizer(analyzer=&#x27;char&#x27;, ngram_range=(1, 3))</pre></div></div></div><div class=\"sk-item\"><div class=\"sk-estimator sk-toggleable\"><input class=\"sk-toggleable__control sk-hidden--visually\" id=\"sk-estimator-id-9\" type=\"checkbox\" ><label for=\"sk-estimator-id-9\" class=\"sk-toggleable__label sk-toggleable__label-arrow\">MultinomialNB</label><div class=\"sk-toggleable__content\"><pre>MultinomialNB()</pre></div></div></div></div></div></div></div>"
      ],
      "text/plain": [
       "Pipeline(steps=[('vectorizer',\n",
       "                 TfidfVectorizer(analyzer='char', ngram_range=(1, 3))),\n",
       "                ('clf', MultinomialNB())])"
      ]
     },
     "execution_count": 52,
     "metadata": {},
     "output_type": "execute_result"
    }
   ],
   "source": [
    "pipeMNB = pipeline.Pipeline([\n",
    "    ('vectorizer', vectorizer),\n",
    "    ('clf', MultinomialNB())\n",
    "])\n",
    "pipeMNB.fit(xTrain, yTrain,)"
   ]
  },
  {
   "cell_type": "code",
   "execution_count": 18,
   "id": "f9f7f8a1",
   "metadata": {},
   "outputs": [
    {
     "data": {
      "text/html": [
       "<style>#sk-container-id-2 {color: black;background-color: white;}#sk-container-id-2 pre{padding: 0;}#sk-container-id-2 div.sk-toggleable {background-color: white;}#sk-container-id-2 label.sk-toggleable__label {cursor: pointer;display: block;width: 100%;margin-bottom: 0;padding: 0.3em;box-sizing: border-box;text-align: center;}#sk-container-id-2 label.sk-toggleable__label-arrow:before {content: \"▸\";float: left;margin-right: 0.25em;color: #696969;}#sk-container-id-2 label.sk-toggleable__label-arrow:hover:before {color: black;}#sk-container-id-2 div.sk-estimator:hover label.sk-toggleable__label-arrow:before {color: black;}#sk-container-id-2 div.sk-toggleable__content {max-height: 0;max-width: 0;overflow: hidden;text-align: left;background-color: #f0f8ff;}#sk-container-id-2 div.sk-toggleable__content pre {margin: 0.2em;color: black;border-radius: 0.25em;background-color: #f0f8ff;}#sk-container-id-2 input.sk-toggleable__control:checked~div.sk-toggleable__content {max-height: 200px;max-width: 100%;overflow: auto;}#sk-container-id-2 input.sk-toggleable__control:checked~label.sk-toggleable__label-arrow:before {content: \"▾\";}#sk-container-id-2 div.sk-estimator input.sk-toggleable__control:checked~label.sk-toggleable__label {background-color: #d4ebff;}#sk-container-id-2 div.sk-label input.sk-toggleable__control:checked~label.sk-toggleable__label {background-color: #d4ebff;}#sk-container-id-2 input.sk-hidden--visually {border: 0;clip: rect(1px 1px 1px 1px);clip: rect(1px, 1px, 1px, 1px);height: 1px;margin: -1px;overflow: hidden;padding: 0;position: absolute;width: 1px;}#sk-container-id-2 div.sk-estimator {font-family: monospace;background-color: #f0f8ff;border: 1px dotted black;border-radius: 0.25em;box-sizing: border-box;margin-bottom: 0.5em;}#sk-container-id-2 div.sk-estimator:hover {background-color: #d4ebff;}#sk-container-id-2 div.sk-parallel-item::after {content: \"\";width: 100%;border-bottom: 1px solid gray;flex-grow: 1;}#sk-container-id-2 div.sk-label:hover label.sk-toggleable__label {background-color: #d4ebff;}#sk-container-id-2 div.sk-serial::before {content: \"\";position: absolute;border-left: 1px solid gray;box-sizing: border-box;top: 0;bottom: 0;left: 50%;z-index: 0;}#sk-container-id-2 div.sk-serial {display: flex;flex-direction: column;align-items: center;background-color: white;padding-right: 0.2em;padding-left: 0.2em;position: relative;}#sk-container-id-2 div.sk-item {position: relative;z-index: 1;}#sk-container-id-2 div.sk-parallel {display: flex;align-items: stretch;justify-content: center;background-color: white;position: relative;}#sk-container-id-2 div.sk-item::before, #sk-container-id-2 div.sk-parallel-item::before {content: \"\";position: absolute;border-left: 1px solid gray;box-sizing: border-box;top: 0;bottom: 0;left: 50%;z-index: -1;}#sk-container-id-2 div.sk-parallel-item {display: flex;flex-direction: column;z-index: 1;position: relative;background-color: white;}#sk-container-id-2 div.sk-parallel-item:first-child::after {align-self: flex-end;width: 50%;}#sk-container-id-2 div.sk-parallel-item:last-child::after {align-self: flex-start;width: 50%;}#sk-container-id-2 div.sk-parallel-item:only-child::after {width: 0;}#sk-container-id-2 div.sk-dashed-wrapped {border: 1px dashed gray;margin: 0 0.4em 0.5em 0.4em;box-sizing: border-box;padding-bottom: 0.4em;background-color: white;}#sk-container-id-2 div.sk-label label {font-family: monospace;font-weight: bold;display: inline-block;line-height: 1.2em;}#sk-container-id-2 div.sk-label-container {text-align: center;}#sk-container-id-2 div.sk-container {/* jupyter's `normalize.less` sets `[hidden] { display: none; }` but bootstrap.min.css set `[hidden] { display: none !important; }` so we also need the `!important` here to be able to override the default hidden behavior on the sphinx rendered scikit-learn.org. See: https://github.com/scikit-learn/scikit-learn/issues/21755 */display: inline-block !important;position: relative;}#sk-container-id-2 div.sk-text-repr-fallback {display: none;}</style><div id=\"sk-container-id-2\" class=\"sk-top-container\"><div class=\"sk-text-repr-fallback\"><pre>Pipeline(steps=[(&#x27;vectorizer&#x27;,\n",
       "                 TfidfVectorizer(analyzer=&#x27;char&#x27;, ngram_range=(1, 3))),\n",
       "                (&#x27;clf&#x27;, LogisticRegression())])</pre><b>In a Jupyter environment, please rerun this cell to show the HTML representation or trust the notebook. <br />On GitHub, the HTML representation is unable to render, please try loading this page with nbviewer.org.</b></div><div class=\"sk-container\" hidden><div class=\"sk-item sk-dashed-wrapped\"><div class=\"sk-label-container\"><div class=\"sk-label sk-toggleable\"><input class=\"sk-toggleable__control sk-hidden--visually\" id=\"sk-estimator-id-4\" type=\"checkbox\" ><label for=\"sk-estimator-id-4\" class=\"sk-toggleable__label sk-toggleable__label-arrow\">Pipeline</label><div class=\"sk-toggleable__content\"><pre>Pipeline(steps=[(&#x27;vectorizer&#x27;,\n",
       "                 TfidfVectorizer(analyzer=&#x27;char&#x27;, ngram_range=(1, 3))),\n",
       "                (&#x27;clf&#x27;, LogisticRegression())])</pre></div></div></div><div class=\"sk-serial\"><div class=\"sk-item\"><div class=\"sk-estimator sk-toggleable\"><input class=\"sk-toggleable__control sk-hidden--visually\" id=\"sk-estimator-id-5\" type=\"checkbox\" ><label for=\"sk-estimator-id-5\" class=\"sk-toggleable__label sk-toggleable__label-arrow\">TfidfVectorizer</label><div class=\"sk-toggleable__content\"><pre>TfidfVectorizer(analyzer=&#x27;char&#x27;, ngram_range=(1, 3))</pre></div></div></div><div class=\"sk-item\"><div class=\"sk-estimator sk-toggleable\"><input class=\"sk-toggleable__control sk-hidden--visually\" id=\"sk-estimator-id-6\" type=\"checkbox\" ><label for=\"sk-estimator-id-6\" class=\"sk-toggleable__label sk-toggleable__label-arrow\">LogisticRegression</label><div class=\"sk-toggleable__content\"><pre>LogisticRegression()</pre></div></div></div></div></div></div></div>"
      ],
      "text/plain": [
       "Pipeline(steps=[('vectorizer',\n",
       "                 TfidfVectorizer(analyzer='char', ngram_range=(1, 3))),\n",
       "                ('clf', LogisticRegression())])"
      ]
     },
     "execution_count": 18,
     "metadata": {},
     "output_type": "execute_result"
    }
   ],
   "source": [
    "#pipeLogReg = pipeline.Pipeline([\n",
    "#    ('vectorizer', vectorizer),\n",
    "#    ('clf', LogisticRegression())\n",
    "#])\n",
    "#pipeLogReg.fit(xTrain, yTrain)"
   ]
  },
  {
   "cell_type": "code",
   "execution_count": 54,
   "id": "0686b6b7",
   "metadata": {},
   "outputs": [
    {
     "name": "stdout",
     "output_type": "stream",
     "text": [
      "MNB results \n",
      "              precision    recall  f1-score   support\n",
      "\n",
      "      Kazakh       1.00      1.00      1.00     88899\n",
      "     Russian       1.00      1.00      1.00    106536\n",
      "\n",
      "    accuracy                           1.00    195435\n",
      "   macro avg       1.00      1.00      1.00    195435\n",
      "weighted avg       1.00      1.00      1.00    195435\n",
      "\n"
     ]
    }
   ],
   "source": [
    "MNBPreds = pipeMNB.predict(xTest)\n",
    "#LogRegPreds = pipeLogReg.predict(xTest)\n",
    "print('MNB results \\n' +  metrics.classification_report(MNBPreds, yTest))\n",
    "#print('LogReg results \\n' +  metrics.classification_report(LogRegPreds, yTest))"
   ]
  },
  {
   "cell_type": "code",
   "execution_count": 20,
   "id": "98a23cea",
   "metadata": {},
   "outputs": [],
   "source": [
    "def inference(s, model):\n",
    "    s = pd.Series(s)\n",
    "    return model.predict(s)[0]"
   ]
  },
  {
   "cell_type": "code",
   "execution_count": 21,
   "id": "a36050bc",
   "metadata": {},
   "outputs": [
    {
     "data": {
      "text/plain": [
       "('Kazakh', 'Russian')"
      ]
     },
     "execution_count": 21,
     "metadata": {},
     "output_type": "execute_result"
    }
   ],
   "source": [
    "inference('салем', pipeMNB),inference('здравствуйте у меня не работает ', pipeMNB)"
   ]
  },
  {
   "cell_type": "code",
   "execution_count": 33,
   "id": "ce6114ae-55e2-496b-809f-1e9d0434296f",
   "metadata": {},
   "outputs": [
    {
     "data": {
      "text/plain": [
       "array(['Russian', 'Russian', 'Russian', ..., 'Kazakh', 'Kazakh',\n",
       "       'Russian'], dtype='<U7')"
      ]
     },
     "execution_count": 33,
     "metadata": {},
     "output_type": "execute_result"
    }
   ],
   "source": [
    "MNBPreds"
   ]
  },
  {
   "cell_type": "code",
   "execution_count": 35,
   "id": "f3c0b155-e3c2-4cc1-84d6-592b97c1fac0",
   "metadata": {},
   "outputs": [
    {
     "data": {
      "text/plain": [
       "0.9988601021686204"
      ]
     },
     "execution_count": 35,
     "metadata": {},
     "output_type": "execute_result"
    }
   ],
   "source": [
    "from sklearn.metrics import roc_auc_score, f1_score\n",
    "f1_score((MNBPreds=='Russian'), (yTest == 'Russian'))"
   ]
  },
  {
   "cell_type": "markdown",
   "id": "1c669db4",
   "metadata": {},
   "source": [
    "## Checking"
   ]
  },
  {
   "cell_type": "code",
   "execution_count": 109,
   "id": "f2552f44",
   "metadata": {
    "scrolled": true
   },
   "outputs": [
    {
     "data": {
      "text/plain": [
       "['model.pkl']"
      ]
     },
     "execution_count": 109,
     "metadata": {},
     "output_type": "execute_result"
    }
   ],
   "source": [
    "joblib.dump(pipeMNB, 'model.pkl') "
   ]
  },
  {
   "cell_type": "code",
   "execution_count": null,
   "id": "0641c532",
   "metadata": {},
   "outputs": [],
   "source": []
  }
 ],
 "metadata": {
  "kernelspec": {
   "display_name": "Python 3 (ipykernel)",
   "language": "python",
   "name": "python3"
  },
  "language_info": {
   "codemirror_mode": {
    "name": "ipython",
    "version": 3
   },
   "file_extension": ".py",
   "mimetype": "text/x-python",
   "name": "python",
   "nbconvert_exporter": "python",
   "pygments_lexer": "ipython3",
   "version": "3.9.12"
  }
 },
 "nbformat": 4,
 "nbformat_minor": 5
}
